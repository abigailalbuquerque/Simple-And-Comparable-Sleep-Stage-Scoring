{
  "nbformat": 4,
  "nbformat_minor": 0,
  "metadata": {
    "colab": {
      "provenance": [],
      "machine_shape": "hm",
      "include_colab_link": true
    },
    "kernelspec": {
      "name": "python3",
      "display_name": "Python 3"
    },
    "language_info": {
      "name": "python"
    },
    "gpuClass": "standard",
    "accelerator": "GPU"
  },
  "cells": [
    {
      "cell_type": "markdown",
      "metadata": {
        "id": "view-in-github",
        "colab_type": "text"
      },
      "source": [
        "<a href=\"https://colab.research.google.com/github/abigailalbuquerque/SimpleAndComparableSleepStageScoring/blob/collab_code/EEG_spectrogram_classifier_Sc.ipynb\" target=\"_parent\"><img src=\"https://colab.research.google.com/assets/colab-badge.svg\" alt=\"Open In Colab\"/></a>"
      ]
    },
    {
      "cell_type": "code",
      "source": [
        "# Import libraries \n",
        "import tensorflow as tf\n",
        "import numpy as np\n",
        "import pandas as pd\n",
        "import tensorflow as tf\n",
        "import matplotlib.pyplot as plt\n",
        "import os\n",
        "import wave\n",
        "import pylab\n",
        "from pathlib import Path\n",
        "from scipy import signal\n",
        "from scipy.io import wavfile\n",
        "from sklearn.metrics import confusion_matrix\n",
        "import itertools\n",
        "from sklearn.metrics import f1_score, recall_score, accuracy_score, precision_score, cohen_kappa_score\n",
        "from sklearn.utils import class_weight\n",
        "from sklearn.model_selection import train_test_split\n",
        "from scipy.io import loadmat\n",
        "import math"
      ],
      "metadata": {
        "id": "FCE1PjCThGVk"
      },
      "execution_count": null,
      "outputs": []
    },
    {
      "cell_type": "code",
      "source": [
        "# Clear the direcotry\n",
        "!rm -rf 'training_set_00_17_Sc'\n",
        "!rm -rf 'testing_set_18_19_Sc'"
      ],
      "metadata": {
        "id": "IQtoQSm8MPl7"
      },
      "execution_count": null,
      "outputs": []
    },
    {
      "cell_type": "code",
      "source": [
        "# Unzip imported training and testing dataset \n",
        "!unzip /content/drive/MyDrive/Colab_Data/training_set_00_17_Sc.zip\n",
        "!unzip /content/drive/MyDrive/Colab_Data/testing_set_18_19_Sc.zip"
      ],
      "metadata": {
        "id": "eI2Gm-PJvpB-"
      },
      "execution_count": null,
      "outputs": []
    },
    {
      "cell_type": "code",
      "source": [
        "# Load X_train and Y_train\n",
        "\n",
        "subject_id_list = np.array([\"SC4001E0\", \"SC4002E0\", \"SC4011E0\", \"SC4012E0\", \"SC4021E0\", \"SC4022E0\", \n",
        "                            \"SC4031E0\", \"SC4032E0\", \"SC4041E0\", \"SC4042E0\", \"SC4051E0\", \"SC4052E0\", \n",
        "                            \"SC4061E0\", \"SC4062E0\", \"SC4071E0\", \"SC4072E0\", \"SC4081E0\", \"SC4082E0\", \n",
        "                            \"SC4091E0\", \"SC4092E0\", \"SC4101E0\", \"SC4102E0\", \"SC4111E0\", \"SC4112E0\", \n",
        "                            \"SC4121E0\", \"SC4122E0\", \"SC4131E0\", \n",
        "                            \"SC4141E0\", \"SC4142E0\", \"SC4151E0\", \"SC4152E0\", \"SC4161E0\", \"SC4162E0\", \n",
        "                            \"SC4171E0\", \"SC4172E0\"])\n",
        "X_train_raw = np.empty((0, 138, 28))\n",
        "Y_train_raw = np.empty((0))\n",
        "\n",
        "for subject_id in subject_id_list:\n",
        "  print('\\r', f\"loading...: {subject_id}\", end='')\n",
        "  X_file_name = 'training_set_00_17_Sc/' + 'X_' + subject_id + '.mat'\n",
        "  Y_file_name = 'training_set_00_17_Sc/' + 'Y_' + subject_id + '.mat'\n",
        "\n",
        "  # extract data from X\n",
        "  mat = loadmat(X_file_name)\n",
        "  mat_3d = mat['Sc_ds']\n",
        "  numpy_3d = np.array(mat_3d)\n",
        "  numpy_3d_reshape = numpy_3d.transpose((2,1,0))\n",
        "  X_train_raw = np.concatenate((X_train_raw, numpy_3d_reshape), axis=0)\n",
        "\n",
        "  # extract data from Y\n",
        "  Y_true = loadmat(Y_file_name)\n",
        "  Y_train = Y_true['y_true_list']\n",
        "  Y_train = Y_train.flatten()\n",
        "  Y_train_raw = np.append(Y_train_raw, Y_train)\n",
        "\n",
        "  # print the shape to check size\n",
        "\n",
        "print('  Done')\n",
        "print(X_train_raw.shape)\n",
        "print(Y_train_raw.shape)\n",
        "\n",
        "# Load X_test and Y_test--------------------------------------------------------\n",
        "\n",
        "subject_id_list = np.array([\"SC4181E0\", \"SC4182E0\", \"SC4191E0\", \"SC4192E0\"])\n",
        "X_test_raw = np.empty((0, 138, 28))\n",
        "Y_test_raw = np.empty((0))\n",
        "\n",
        "for subject_id in subject_id_list:\n",
        "  print('\\r', f\"loading...: {subject_id}\", end='')\n",
        "  X_file_name = 'testing_set_18_19_Sc/' + 'X_' + subject_id + '.mat'\n",
        "  Y_file_name = 'testing_set_18_19_Sc/' + 'Y_' + subject_id + '.mat'\n",
        "\n",
        "  # extract data from X\n",
        "  mat = loadmat(X_file_name)\n",
        "  mat_3d = mat['Sc_ds']\n",
        "  numpy_3d = np.array(mat_3d)\n",
        "  numpy_3d_reshape = numpy_3d.transpose((2,1,0))\n",
        "  X_test_raw = np.concatenate((X_test_raw, numpy_3d_reshape), axis=0)\n",
        "\n",
        "  # extract data from Y\n",
        "  Y_true = loadmat(Y_file_name)\n",
        "  Y_test = Y_true['y_true_list']\n",
        "  Y_test = Y_test.flatten()\n",
        "  Y_test_raw = np.append(Y_test_raw, Y_test)\n",
        "\n",
        "  # print the shape to check size\n",
        "\n",
        "print('  Done')\n",
        "print(X_test_raw.shape)\n",
        "print(Y_test_raw.shape)\n",
        "\n",
        "# Expand the raw value e^8------------------------------------------------------ \n",
        "\n",
        "X_train_raw = X_train_raw*(10**8)\n",
        "X_test_raw = X_test_raw*(10**8)"
      ],
      "metadata": {
        "id": "F2siDO1atPA3",
        "colab": {
          "base_uri": "https://localhost:8080/"
        },
        "outputId": "affb4bb2-27b2-4783-b048-463138eb4d25"
      },
      "execution_count": null,
      "outputs": [
        {
          "output_type": "stream",
          "name": "stdout",
          "text": [
            " loading...: SC4172E0  Done\n",
            "(39527, 138, 28)\n",
            "(39527,)\n",
            " loading...: SC4192E0  Done\n",
            "(4693, 138, 28)\n",
            "(4693,)\n"
          ]
        }
      ]
    },
    {
      "cell_type": "code",
      "source": [
        "# Oversampling\n",
        "\n",
        "def class_info(Y_train, Y_test):\n",
        "  # Get the number of different classes from true and pred\n",
        "  print('         Train  Test')\n",
        "  unique, true_counts = np.unique(Y_train, return_counts=True)\n",
        "  unique, pred_counts = np.unique(Y_test, return_counts=True)\n",
        "  print(np.asarray((['Wake', 'N1', 'N2', 'N3', 'REM'], true_counts, pred_counts)).T)\n",
        "\n",
        "# get the class_info before oversampling\n",
        "class_info(Y_train_raw, Y_test_raw)\n",
        "\n",
        "# input the raw X and Y, return the oversampled X and Y\n",
        "def oversampling(X_raw, Y_raw):\n",
        "  X = X_raw\n",
        "  y = Y_raw\n",
        "\n",
        "  y = y.astype(int)\n",
        "  max_size = np.max(np.bincount(y))\n",
        "  size_diffs = [max_size - np.sum(y == i) for i in range(5)]\n",
        "\n",
        "  for i in range(5):\n",
        "    if size_diffs[i] > 0:\n",
        "        idxs = np.where(y == i)[0]\n",
        "        n_dup = size_diffs[i]\n",
        "        idxs_to_dup = np.random.choice(idxs, size=n_dup, replace=True)\n",
        "        X = np.concatenate((X, X[idxs_to_dup]), axis=0)\n",
        "        y = np.concatenate((y, np.full(n_dup, i)), axis=0)\n",
        "\n",
        "  return X, y\n",
        "\n",
        "X_oversampled_train, Y_oversampled_train = oversampling(X_train_raw, Y_train_raw)\n",
        "\n",
        "# get the class_info after oversampling\n",
        "class_info(Y_oversampled_train, Y_test_raw)"
      ],
      "metadata": {
        "colab": {
          "base_uri": "https://localhost:8080/"
        },
        "id": "C3PPnuEZ-aZW",
        "outputId": "82197e11-197b-4d38-bb18-eef1db0e3df9"
      },
      "execution_count": null,
      "outputs": [
        {
          "output_type": "stream",
          "name": "stdout",
          "text": [
            "         Train  Test\n",
            "[['Wake' '9348' '849']\n",
            " ['N1' '2434' '370']\n",
            " ['N2' '15854' '1945']\n",
            " ['N3' '5026' '677']\n",
            " ['REM' '6865' '852']]\n",
            "         Train  Test\n",
            "[['Wake' '15854' '849']\n",
            " ['N1' '15854' '370']\n",
            " ['N2' '15854' '1945']\n",
            " ['N3' '15854' '677']\n",
            " ['REM' '15854' '852']]\n"
          ]
        }
      ]
    },
    {
      "cell_type": "code",
      "source": [
        "# Prepare the train valid test ds\n",
        "\n",
        "x_train, x_valid, y_train, y_valid = train_test_split(X_oversampled_train, Y_oversampled_train, test_size=0.2, shuffle=True)\n",
        "\n",
        "train_ds = tf.data.Dataset.from_tensor_slices((x_train, y_train)).batch(32)\n",
        "valid_ds = tf.data.Dataset.from_tensor_slices((x_valid, y_valid)).batch(32)\n",
        "test_ds = tf.data.Dataset.from_tensor_slices((X_test_raw, Y_test_raw)).batch(32)"
      ],
      "metadata": {
        "id": "wvTjS-7mbk9h"
      },
      "execution_count": null,
      "outputs": []
    },
    {
      "cell_type": "code",
      "source": [
        "# Visualize the data\n",
        "\n",
        "X = X_oversampled_train\n",
        "Y = Y_oversampled_train\n",
        "\n",
        "print('Total size:', Y.shape)\n",
        "\n",
        "epoch_idx = 50000    # note that python starts with 0 but MATLAB starts with 1\n",
        "epoch_num = 5\n",
        "for i in range(epoch_num):   # slice each 30s epoch into 5 sub_epochs\n",
        "  ax = plt.subplot(1, epoch_num, i + 1)\n",
        "  # plt.figure(figsize=(2, 11))\n",
        "  plt.imshow(X[epoch_idx+i,:,:], cmap='turbo')\n",
        "  plt.title(int(Y[epoch_idx+i]))\n",
        "  plt.gca().invert_yaxis()    # flip the y-axis\n",
        "  plt.axis(\"off\")\n",
        "\n",
        "plt.figure(0)\n",
        "plt.figure(figsize=(6,1))\n",
        "plt.ylim([0, 5])\n",
        "plt.plot(Y[epoch_idx:epoch_idx+epoch_num-1])\n"
      ],
      "metadata": {
        "id": "2qgb3j5Pwg2c"
      },
      "execution_count": null,
      "outputs": []
    },
    {
      "cell_type": "code",
      "source": [
        "# Create CNN model\n",
        "\n",
        "IMAGE_HEIGHT = 138\n",
        "IMAGE_WIDTH = 28\n",
        "N_CHANNELS = 1\n",
        "N_CLASSES = 5\n",
        "\n",
        "model = tf.keras.models.Sequential()\n",
        "model.add(tf.keras.layers.Input(shape=(IMAGE_HEIGHT, IMAGE_WIDTH, N_CHANNELS)))\n",
        "model.add(tf.keras.layers.Conv2D(16, (3,3), activation='relu', padding='same'))\n",
        "model.add(tf.keras.layers.Conv2D(32, (3,3), activation='relu', padding='same'))\n",
        "model.add(tf.keras.layers.MaxPooling2D(pool_size=(2, 2)))\n",
        "model.add(tf.keras.layers.Conv2D(32, (3,3), activation='relu'))\n",
        "model.add(tf.keras.layers.Conv2D(64, (3,3), activation='relu'))\n",
        "model.add(tf.keras.layers.MaxPooling2D(pool_size=(2, 2)))\n",
        "model.add(tf.keras.layers.Conv2D(128, (3,3), activation='relu'))\n",
        "model.add(tf.keras.layers.MaxPooling2D(pool_size=(2, 2)))\n",
        "model.add(tf.keras.layers.Flatten()) # reshapes the tensor to have a shape that is equal to the number of elements contained in the tensor \n",
        "model.add(tf.keras.layers.Dropout(0.5))\n",
        "model.add(tf.keras.layers.Dense(N_CLASSES, activation='softmax'))\n",
        "\n",
        "# Compile model\n",
        "model.compile(\n",
        "    loss='sparse_categorical_crossentropy',\n",
        "    optimizer=tf.keras.optimizers.RMSprop(),\n",
        "    metrics=['accuracy'],\n",
        ")\n",
        "\n",
        "\n",
        "# Train model for 10 epochs, capture the history\n",
        "history = model.fit(train_ds, epochs=10, validation_data=valid_ds)"
      ],
      "metadata": {
        "id": "0RJrlVxRN-lA",
        "colab": {
          "base_uri": "https://localhost:8080/"
        },
        "outputId": "f77f8cef-b749-44ee-9d05-2db2d1f29456"
      },
      "execution_count": null,
      "outputs": [
        {
          "output_type": "stream",
          "name": "stdout",
          "text": [
            "Epoch 1/10\n",
            "1982/1982 [==============================] - 26s 8ms/step - loss: 1.0420 - accuracy: 0.6183 - val_loss: 0.7480 - val_accuracy: 0.7077\n",
            "Epoch 2/10\n",
            "1982/1982 [==============================] - 14s 7ms/step - loss: 0.7856 - accuracy: 0.6904 - val_loss: 0.7002 - val_accuracy: 0.7251\n",
            "Epoch 3/10\n",
            "1982/1982 [==============================] - 14s 7ms/step - loss: 0.7435 - accuracy: 0.7091 - val_loss: 0.6782 - val_accuracy: 0.7340\n",
            "Epoch 4/10\n",
            "1982/1982 [==============================] - 14s 7ms/step - loss: 0.7259 - accuracy: 0.7172 - val_loss: 0.6623 - val_accuracy: 0.7427\n",
            "Epoch 5/10\n",
            "1982/1982 [==============================] - 14s 7ms/step - loss: 0.7154 - accuracy: 0.7216 - val_loss: 0.6694 - val_accuracy: 0.7400\n",
            "Epoch 6/10\n",
            "1982/1982 [==============================] - 14s 7ms/step - loss: 0.7154 - accuracy: 0.7229 - val_loss: 0.6597 - val_accuracy: 0.7461\n",
            "Epoch 7/10\n",
            "1982/1982 [==============================] - 14s 7ms/step - loss: 0.7181 - accuracy: 0.7253 - val_loss: 0.6549 - val_accuracy: 0.7491\n",
            "Epoch 8/10\n",
            "1982/1982 [==============================] - 14s 7ms/step - loss: 0.7123 - accuracy: 0.7298 - val_loss: 0.6655 - val_accuracy: 0.7458\n",
            "Epoch 9/10\n",
            "1982/1982 [==============================] - 15s 8ms/step - loss: 0.7246 - accuracy: 0.7275 - val_loss: 0.6716 - val_accuracy: 0.7491\n",
            "Epoch 10/10\n",
            "1982/1982 [==============================] - 14s 7ms/step - loss: 0.7419 - accuracy: 0.7205 - val_loss: 0.6775 - val_accuracy: 0.7386\n"
          ]
        }
      ]
    },
    {
      "cell_type": "code",
      "source": [
        "model.summary()"
      ],
      "metadata": {
        "id": "dPa35Q5iRvOJ",
        "colab": {
          "base_uri": "https://localhost:8080/"
        },
        "outputId": "9afc69dc-fddd-4b73-b2b7-7e5383cc191b"
      },
      "execution_count": null,
      "outputs": [
        {
          "output_type": "stream",
          "name": "stdout",
          "text": [
            "Model: \"sequential\"\n",
            "_________________________________________________________________\n",
            " Layer (type)                Output Shape              Param #   \n",
            "=================================================================\n",
            " conv2d (Conv2D)             (None, 138, 28, 16)       160       \n",
            "                                                                 \n",
            " conv2d_1 (Conv2D)           (None, 138, 28, 32)       4640      \n",
            "                                                                 \n",
            " max_pooling2d (MaxPooling2D  (None, 69, 14, 32)       0         \n",
            " )                                                               \n",
            "                                                                 \n",
            " conv2d_2 (Conv2D)           (None, 67, 12, 32)        9248      \n",
            "                                                                 \n",
            " conv2d_3 (Conv2D)           (None, 65, 10, 64)        18496     \n",
            "                                                                 \n",
            " max_pooling2d_1 (MaxPooling  (None, 32, 5, 64)        0         \n",
            " 2D)                                                             \n",
            "                                                                 \n",
            " conv2d_4 (Conv2D)           (None, 30, 3, 128)        73856     \n",
            "                                                                 \n",
            " max_pooling2d_2 (MaxPooling  (None, 15, 1, 128)       0         \n",
            " 2D)                                                             \n",
            "                                                                 \n",
            " flatten (Flatten)           (None, 1920)              0         \n",
            "                                                                 \n",
            " dropout (Dropout)           (None, 1920)              0         \n",
            "                                                                 \n",
            " dense (Dense)               (None, 5)                 9605      \n",
            "                                                                 \n",
            "=================================================================\n",
            "Total params: 116,005\n",
            "Trainable params: 116,005\n",
            "Non-trainable params: 0\n",
            "_________________________________________________________________\n"
          ]
        }
      ]
    },
    {
      "cell_type": "code",
      "source": [
        "# Evaluate the model with test_set\n",
        "evaluation_set = test_ds\n",
        "\n",
        "predictions = model.predict(evaluation_set)\n",
        "label_pred = np.array([])\n",
        "for sub in predictions:\n",
        "  max_idx = np.argmax(sub)\n",
        "  label_pred = np.append(label_pred, max_idx)\n",
        "test_label = np.concatenate([y for x, y in evaluation_set], axis=0)\n",
        "\n",
        "# Get confusion matrix and plot out\n",
        "cm = confusion_matrix(test_label, label_pred)\n",
        "\n",
        "# Get acc, precision, recall, and f1\n",
        "acc = accuracy_score(test_label, label_pred)\n",
        "print('Overall Accuracy: ', acc.round(3))\n",
        "precision = precision_score(test_label, label_pred, average=None)\n",
        "print('Precision per-class:', precision.round(3))\n",
        "recall = recall_score(test_label, label_pred, average=None)\n",
        "print('Recall per-class:', recall.round(3))\n",
        "f1score = f1_score(test_label, label_pred, average=None)\n",
        "print('F1 per-class:', f1score.round(3))\n",
        "f1weighted = f1_score(test_label, label_pred, average='weighted')   # conpute the f1 for each label and returns the average considering the proportion of each label\n",
        "print('F1(weighted):', f1weighted.round(3))\n",
        "\n",
        "# Plot the confusion matrix\n",
        "import seaborn as sns\n",
        "import matplotlib.pyplot as plt \n",
        "ax= plt.subplot()\n",
        "sns.heatmap(cm, annot=True, fmt='g', ax=ax);  #annot=True to annotate cells, ftm='g' to disable scientific notation\n",
        "# labels, title and ticks\n",
        "ax.set_xlabel('Predicted labels');ax.set_ylabel('True labels'); \n",
        "ax.set_title('Confusion Matrix'); \n",
        "ax.xaxis.set_ticklabels(['Wake', 'N1', 'N2', 'N3', 'REM']); ax.yaxis.set_ticklabels(['Wake', 'N1', 'N2', 'N3', 'REM']);\n",
        "# move labels to the top\n",
        "ax.tick_params(top=True, labeltop=True, bottom=False, labelbottom=False)\n",
        "ax.xaxis.set_label_position('top') \n",
        "\n",
        "# Get the number of different classes from true and pred\n",
        "print('         True  Pred')\n",
        "unique, true_counts = np.unique(test_label, return_counts=True)\n",
        "unique, pred_counts = np.unique(label_pred, return_counts=True)\n",
        "print(np.asarray((['Wake', 'N1', 'N2', 'N3', 'REM'], true_counts, pred_counts)).T)\n",
        "\n"
      ],
      "metadata": {
        "colab": {
          "base_uri": "https://localhost:8080/",
          "height": 685
        },
        "id": "HYNqjOt1yJ9g",
        "outputId": "6d81f5f9-93e5-4cab-a2ce-8e3f08abb36f"
      },
      "execution_count": null,
      "outputs": [
        {
          "output_type": "stream",
          "name": "stdout",
          "text": [
            "147/147 [==============================] - 1s 4ms/step\n",
            "Overall Accuracy:  0.751\n",
            "Precision per-class: [0.696 0.269 0.944 0.806 0.655]\n",
            "Recall per-class: [0.736 0.319 0.793 0.866 0.765]\n",
            "F1 per-class: [0.716 0.292 0.862 0.835 0.706]\n",
            "F1(weighted): 0.758\n",
            "         True  Pred\n",
            "[['Wake' '849' '898']\n",
            " ['N1' '370' '438']\n",
            " ['N2' '1945' '1634']\n",
            " ['N3' '677' '727']\n",
            " ['REM' '852' '996']]\n"
          ]
        },
        {
          "output_type": "display_data",
          "data": {
            "text/plain": [
              "<Figure size 640x480 with 2 Axes>"
            ],
            "image/png": "[encoded data removed]"
          },
          "metadata": {}
        }
      ]
    }
  ]
}